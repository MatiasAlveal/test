{
  "nbformat": 4,
  "nbformat_minor": 0,
  "metadata": {
    "colab": {
      "name": "lab1.ipynb",
      "provenance": [],
      "collapsed_sections": [],
      "authorship_tag": "ABX9TyPyG5eMs0cfORjtT8he3iXB",
      "include_colab_link": true
    },
    "kernelspec": {
      "name": "python3",
      "display_name": "Python 3"
    },
    "language_info": {
      "name": "python"
    }
  },
  "cells": [
    {
      "cell_type": "markdown",
      "metadata": {
        "id": "view-in-github",
        "colab_type": "text"
      },
      "source": [
        "<a href=\"https://colab.research.google.com/github/MatiasAlveal/test/blob/main/lab1.ipynb\" target=\"_parent\"><img src=\"https://colab.research.google.com/assets/colab-badge.svg\" alt=\"Open In Colab\"/></a>"
      ]
    },
    {
      "cell_type": "markdown",
      "metadata": {
        "id": "lQNlfJ9wawH7"
      },
      "source": [
        "Problema 1 (2.5):\n",
        "Un cohete debe seguir una trayectoria circular desde el punto inicial hasta una altura de 5 𝑘𝑚. Se\n",
        "puede asumir que la posición 𝑟(𝑡) del cohete está en el plano cartesiano 𝑥𝑦 y que la velocidad de\n",
        "trayectoria 𝑣 = 10 𝑚\n",
        "𝑠\n",
        "es constante desde el despegue. Para asegurarse que la trayectoria sea la\n",
        "correcta usted debe calcular la actitud del cohete. Le solicitan a usted que calcule la actitud del\n",
        "cohete basado en la medición de una antena radar montada en el cohete y un sensor acelerómetro.\n",
        "Además, cuanta con un radar en tierra que le indica la posición del cohete. Inicialmente, el radar\n",
        "de tierra está ubicado en la posición 𝑝(𝑡) = [𝑑, 0] respecto al sistema de referencia inercial, donde\n",
        "𝑑 = 1 𝑘𝑚. Este entregar la posición del cohete en el plano cartesiano sin ruido. Sin embargo, la\n",
        "posición del radar en tierra respecto a la antena montada en el cohete tiene un ruido con media\n",
        "cero, desviación estándar de 𝜎𝑎𝑛𝑡 = [100, 100] 𝑚, y 𝑝𝑑𝑓 gaussiano. Por otro lado, el\n",
        "acelerómetro le permite conocer 2 componentes de aceleración basado en la gravedad de la tierra,\n",
        "es decir, 𝑎(𝑡) = [𝑎𝑥\n",
        "(𝑡), 𝑎𝑦\n",
        "(𝑡)]. El sensor está montado de tal manera que cuando el satélite apunta\n",
        "hacia el eje +𝑦 el sensor marca 𝑎(𝑡) = [0, −1] 𝑔, y cuando el cohete está apuntando al eje +𝑥 el\n",
        "sensor marca 𝑎(𝑡) = [1, 0] 𝑔 (Inicialmente tiene las mismas coordenadas que el sistema de\n",
        "referencia inercial, pero va cambiando conforme cambia el sistema de referencia del cuerpo). El\n",
        "ruido del acelerómetro es con media cero, pdf gaussiano y 𝜎𝑎 = [0.05, 0.05] 𝑔.\n"
      ]
    },
    {
      "cell_type": "markdown",
      "metadata": {
        "id": "thj4RzASacEa"
      },
      "source": [
        "\n",
        "4:Grafique la actitud teórica y la determinada por cada sensor de forma independiente, sin\n",
        "fusionar. Calcule métricas importantes entre los gráficos: error, MSE, MAPE. Comente\n",
        "sobre estas métricas.\n"
      ]
    },
    {
      "cell_type": "code",
      "metadata": {
        "colab": {
          "base_uri": "https://localhost:8080/",
          "height": 265
        },
        "id": "gHknyXaaV_CL",
        "outputId": "29ddee23-c292-417c-81ce-2951a3303909"
      },
      "source": [
        "import numpy as np\n",
        "import matplotlib.pyplot as plt\n",
        "t= np.linspace(1,1570.8,100)\n",
        "teta=0.002*t #en radianes\n",
        "plt.plot(t,teta)\n",
        "plt.show()"
      ],
      "execution_count": 5,
      "outputs": [
        {
          "output_type": "display_data",
          "data": {
            "image/png": "[encoded data removed]",
            "text/plain": [
              "<Figure size 432x288 with 1 Axes>"
            ]
          },
          "metadata": {
            "tags": [],
            "needs_background": "light"
          }
        }
      ]
    },
    {
      "cell_type": "code",
      "metadata": {
        "id": "ItGc14M0bkUs"
      },
      "source": [
        ""
      ],
      "execution_count": null,
      "outputs": []
    }
  ]
}